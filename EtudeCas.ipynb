{
 "cells": [
  {
   "cell_type": "markdown",
   "id": "dcf4f049-503d-43c7-a052-e37ba156126a",
   "metadata": {},
   "source": [
    "# **INTRODUCTION**\n"
   ]
  },
  {
   "cell_type": "markdown",
   "id": "dcda057f-175c-4406-902d-5a9608a70b74",
   "metadata": {},
   "source": [
    "**L’arrhythmie cardiaque est une condition qui se caractérise par un battement du cœur irrégulier, ce qui peut mener à des complications graves, telles que des AVC ou des insuffisances cardiaques. La détection précoce des arythmies est cruciale pour améliorer la prise en charge des patients et prévenir de graves problèmes de santé.**"
   ]
  },
  {
   "cell_type": "markdown",
   "id": "231ddae4-ff7d-4a85-9ab0-01f950054bc2",
   "metadata": {},
   "source": [
    "**C'est donc pour cette raison que nous allons utiliser le jeu de données MIT-BIH Arrhythmia, qui contient des enregistrements ECG (électrocardiogramme) provenant de patients, afin de classifier les arythmies cardiaques à l'aide d'un réseau de neurone récurents (LSTM) et un MLP classique. Le jeu de données comporte des signaux ECG qui ont été étiquetés selon différents types d'arythmies cardiaques : PVC, LBB, RBB et Pacemaker.**"
   ]
  },
  {
   "cell_type": "markdown",
   "id": "3f3d7016-1984-4dd8-8800-0a52f7460ac5",
   "metadata": {},
   "source": [
    "**L'objectif de ce mini projet est de classer les types d'arythmies cardiaques présentes dans les signaux ECG à partir du jeu de données MIT-BIH Arrhythmia et comparer les deux approches : MLP et LSTM**"
   ]
  },
  {
   "cell_type": "markdown",
   "id": "6f3e618c-1a72-4fc4-b07e-cef35bccbb66",
   "metadata": {},
   "source": [
    "**Plan du rapport**"
   ]
  },
  {
   "cell_type": "markdown",
   "id": "f1174656-156b-44be-a1fd-4208582d1061",
   "metadata": {},
   "source": [
    "**- Visualiation des données et préparation des données**"
   ]
  },
  {
   "cell_type": "markdown",
   "id": "d027e321-aaa6-4bd5-9691-8c7abc1f095a",
   "metadata": {},
   "source": [
    "**- Entrainement avec un MLP classique**"
   ]
  },
  {
   "cell_type": "markdown",
   "id": "8b5f0917-999f-4828-adc3-5db56f3b5cd1",
   "metadata": {},
   "source": [
    "**- Entrainement avec un réseau récurent :  LSTM**\n"
   ]
  },
  {
   "cell_type": "markdown",
   "id": "aab045ba-6ce8-4c8f-95c5-066d3ebde438",
   "metadata": {},
   "source": [
    "**- Comparaison finale et conclusion**"
   ]
  },
  {
   "cell_type": "markdown",
   "id": "a1bcbd75-e865-474f-9cc0-54b6898f8463",
   "metadata": {},
   "source": [
    "**Fait par : Lucas ETIENNE et Clément HIBLOT-MERY**"
   ]
  },
  {
   "cell_type": "markdown",
   "id": "bb905abd-a9c3-4425-9bc4-e0627cf47a57",
   "metadata": {},
   "source": [
    "# **Visualisation et préparation des données**\n"
   ]
  },
  {
   "cell_type": "code",
   "execution_count": null,
   "id": "eb07b534-bd87-4dc5-964f-8c1a54e9fe74",
   "metadata": {},
   "outputs": [],
   "source": [
    "import pandas as pd\n",
    "import numpy as np\n",
    "from tensorflow.keras.utils import to_categorical\n",
    "\n",
    "\n",
    "#Chargement des données\n",
    "data = pd.read_csv(\"DataSet/mitbih_train.csv\", header=None)"
   ]
  },
  {
   "cell_type": "code",
   "execution_count": 2,
   "id": "9d77b700-9c86-46d0-b3ac-b930b2c3845a",
   "metadata": {},
   "outputs": [
    {
     "data": {
      "text/html": [
       "<div>\n",
       "<style scoped>\n",
       "    .dataframe tbody tr th:only-of-type {\n",
       "        vertical-align: middle;\n",
       "    }\n",
       "\n",
       "    .dataframe tbody tr th {\n",
       "        vertical-align: top;\n",
       "    }\n",
       "\n",
       "    .dataframe thead th {\n",
       "        text-align: right;\n",
       "    }\n",
       "</style>\n",
       "<table border=\"1\" class=\"dataframe\">\n",
       "  <thead>\n",
       "    <tr style=\"text-align: right;\">\n",
       "      <th></th>\n",
       "      <th>0</th>\n",
       "      <th>1</th>\n",
       "      <th>2</th>\n",
       "      <th>3</th>\n",
       "      <th>4</th>\n",
       "      <th>5</th>\n",
       "      <th>6</th>\n",
       "      <th>7</th>\n",
       "      <th>8</th>\n",
       "      <th>9</th>\n",
       "      <th>...</th>\n",
       "      <th>178</th>\n",
       "      <th>179</th>\n",
       "      <th>180</th>\n",
       "      <th>181</th>\n",
       "      <th>182</th>\n",
       "      <th>183</th>\n",
       "      <th>184</th>\n",
       "      <th>185</th>\n",
       "      <th>186</th>\n",
       "      <th>187</th>\n",
       "    </tr>\n",
       "  </thead>\n",
       "  <tbody>\n",
       "    <tr>\n",
       "      <th>0</th>\n",
       "      <td>0.977941</td>\n",
       "      <td>0.926471</td>\n",
       "      <td>0.681373</td>\n",
       "      <td>0.245098</td>\n",
       "      <td>0.154412</td>\n",
       "      <td>0.191176</td>\n",
       "      <td>0.151961</td>\n",
       "      <td>0.085784</td>\n",
       "      <td>0.058824</td>\n",
       "      <td>0.049020</td>\n",
       "      <td>...</td>\n",
       "      <td>0.0</td>\n",
       "      <td>0.0</td>\n",
       "      <td>0.0</td>\n",
       "      <td>0.0</td>\n",
       "      <td>0.0</td>\n",
       "      <td>0.0</td>\n",
       "      <td>0.0</td>\n",
       "      <td>0.0</td>\n",
       "      <td>0.0</td>\n",
       "      <td>0.0</td>\n",
       "    </tr>\n",
       "    <tr>\n",
       "      <th>1</th>\n",
       "      <td>0.960114</td>\n",
       "      <td>0.863248</td>\n",
       "      <td>0.461538</td>\n",
       "      <td>0.196581</td>\n",
       "      <td>0.094017</td>\n",
       "      <td>0.125356</td>\n",
       "      <td>0.099715</td>\n",
       "      <td>0.088319</td>\n",
       "      <td>0.074074</td>\n",
       "      <td>0.082621</td>\n",
       "      <td>...</td>\n",
       "      <td>0.0</td>\n",
       "      <td>0.0</td>\n",
       "      <td>0.0</td>\n",
       "      <td>0.0</td>\n",
       "      <td>0.0</td>\n",
       "      <td>0.0</td>\n",
       "      <td>0.0</td>\n",
       "      <td>0.0</td>\n",
       "      <td>0.0</td>\n",
       "      <td>0.0</td>\n",
       "    </tr>\n",
       "    <tr>\n",
       "      <th>2</th>\n",
       "      <td>1.000000</td>\n",
       "      <td>0.659459</td>\n",
       "      <td>0.186486</td>\n",
       "      <td>0.070270</td>\n",
       "      <td>0.070270</td>\n",
       "      <td>0.059459</td>\n",
       "      <td>0.056757</td>\n",
       "      <td>0.043243</td>\n",
       "      <td>0.054054</td>\n",
       "      <td>0.045946</td>\n",
       "      <td>...</td>\n",
       "      <td>0.0</td>\n",
       "      <td>0.0</td>\n",
       "      <td>0.0</td>\n",
       "      <td>0.0</td>\n",
       "      <td>0.0</td>\n",
       "      <td>0.0</td>\n",
       "      <td>0.0</td>\n",
       "      <td>0.0</td>\n",
       "      <td>0.0</td>\n",
       "      <td>0.0</td>\n",
       "    </tr>\n",
       "    <tr>\n",
       "      <th>3</th>\n",
       "      <td>0.925414</td>\n",
       "      <td>0.665746</td>\n",
       "      <td>0.541436</td>\n",
       "      <td>0.276243</td>\n",
       "      <td>0.196133</td>\n",
       "      <td>0.077348</td>\n",
       "      <td>0.071823</td>\n",
       "      <td>0.060773</td>\n",
       "      <td>0.066298</td>\n",
       "      <td>0.058011</td>\n",
       "      <td>...</td>\n",
       "      <td>0.0</td>\n",
       "      <td>0.0</td>\n",
       "      <td>0.0</td>\n",
       "      <td>0.0</td>\n",
       "      <td>0.0</td>\n",
       "      <td>0.0</td>\n",
       "      <td>0.0</td>\n",
       "      <td>0.0</td>\n",
       "      <td>0.0</td>\n",
       "      <td>0.0</td>\n",
       "    </tr>\n",
       "    <tr>\n",
       "      <th>4</th>\n",
       "      <td>0.967136</td>\n",
       "      <td>1.000000</td>\n",
       "      <td>0.830986</td>\n",
       "      <td>0.586854</td>\n",
       "      <td>0.356808</td>\n",
       "      <td>0.248826</td>\n",
       "      <td>0.145540</td>\n",
       "      <td>0.089202</td>\n",
       "      <td>0.117371</td>\n",
       "      <td>0.150235</td>\n",
       "      <td>...</td>\n",
       "      <td>0.0</td>\n",
       "      <td>0.0</td>\n",
       "      <td>0.0</td>\n",
       "      <td>0.0</td>\n",
       "      <td>0.0</td>\n",
       "      <td>0.0</td>\n",
       "      <td>0.0</td>\n",
       "      <td>0.0</td>\n",
       "      <td>0.0</td>\n",
       "      <td>0.0</td>\n",
       "    </tr>\n",
       "  </tbody>\n",
       "</table>\n",
       "<p>5 rows × 188 columns</p>\n",
       "</div>"
      ],
      "text/plain": [
       "        0         1         2         3         4         5         6    \\\n",
       "0  0.977941  0.926471  0.681373  0.245098  0.154412  0.191176  0.151961   \n",
       "1  0.960114  0.863248  0.461538  0.196581  0.094017  0.125356  0.099715   \n",
       "2  1.000000  0.659459  0.186486  0.070270  0.070270  0.059459  0.056757   \n",
       "3  0.925414  0.665746  0.541436  0.276243  0.196133  0.077348  0.071823   \n",
       "4  0.967136  1.000000  0.830986  0.586854  0.356808  0.248826  0.145540   \n",
       "\n",
       "        7         8         9    ...  178  179  180  181  182  183  184  185  \\\n",
       "0  0.085784  0.058824  0.049020  ...  0.0  0.0  0.0  0.0  0.0  0.0  0.0  0.0   \n",
       "1  0.088319  0.074074  0.082621  ...  0.0  0.0  0.0  0.0  0.0  0.0  0.0  0.0   \n",
       "2  0.043243  0.054054  0.045946  ...  0.0  0.0  0.0  0.0  0.0  0.0  0.0  0.0   \n",
       "3  0.060773  0.066298  0.058011  ...  0.0  0.0  0.0  0.0  0.0  0.0  0.0  0.0   \n",
       "4  0.089202  0.117371  0.150235  ...  0.0  0.0  0.0  0.0  0.0  0.0  0.0  0.0   \n",
       "\n",
       "   186  187  \n",
       "0  0.0  0.0  \n",
       "1  0.0  0.0  \n",
       "2  0.0  0.0  \n",
       "3  0.0  0.0  \n",
       "4  0.0  0.0  \n",
       "\n",
       "[5 rows x 188 columns]"
      ]
     },
     "execution_count": 2,
     "metadata": {},
     "output_type": "execute_result"
    }
   ],
   "source": [
    "data.head()\n"
   ]
  },
  {
   "cell_type": "code",
   "execution_count": 3,
   "id": "8bff306d-9e4d-41b1-81ad-dce7b1e4f8d3",
   "metadata": {},
   "outputs": [
    {
     "name": "stdout",
     "output_type": "stream",
     "text": [
      "<class 'pandas.core.frame.DataFrame'>\n",
      "RangeIndex: 87554 entries, 0 to 87553\n",
      "Columns: 188 entries, 0 to 187\n",
      "dtypes: float64(188)\n",
      "memory usage: 125.6 MB\n"
     ]
    }
   ],
   "source": [
    "data.info()"
   ]
  },
  {
   "cell_type": "markdown",
   "id": "444df210-1463-41de-92cc-a40f4511889e",
   "metadata": {},
   "source": [
    "**On peut ainsi remarquer que le jeu d'entrainement est composé de 87554 lignes avec des données de type float**"
   ]
  },
  {
   "cell_type": "code",
   "execution_count": 4,
   "id": "22d34632-6294-4959-93bd-4d1087a54e27",
   "metadata": {},
   "outputs": [
    {
     "data": {
      "text/html": [
       "<div>\n",
       "<style scoped>\n",
       "    .dataframe tbody tr th:only-of-type {\n",
       "        vertical-align: middle;\n",
       "    }\n",
       "\n",
       "    .dataframe tbody tr th {\n",
       "        vertical-align: top;\n",
       "    }\n",
       "\n",
       "    .dataframe thead th {\n",
       "        text-align: right;\n",
       "    }\n",
       "</style>\n",
       "<table border=\"1\" class=\"dataframe\">\n",
       "  <thead>\n",
       "    <tr style=\"text-align: right;\">\n",
       "      <th></th>\n",
       "      <th>0</th>\n",
       "      <th>1</th>\n",
       "      <th>2</th>\n",
       "      <th>3</th>\n",
       "      <th>4</th>\n",
       "      <th>5</th>\n",
       "      <th>6</th>\n",
       "      <th>7</th>\n",
       "      <th>8</th>\n",
       "      <th>9</th>\n",
       "      <th>...</th>\n",
       "      <th>178</th>\n",
       "      <th>179</th>\n",
       "      <th>180</th>\n",
       "      <th>181</th>\n",
       "      <th>182</th>\n",
       "      <th>183</th>\n",
       "      <th>184</th>\n",
       "      <th>185</th>\n",
       "      <th>186</th>\n",
       "      <th>187</th>\n",
       "    </tr>\n",
       "  </thead>\n",
       "  <tbody>\n",
       "    <tr>\n",
       "      <th>count</th>\n",
       "      <td>87554.000000</td>\n",
       "      <td>87554.000000</td>\n",
       "      <td>87554.000000</td>\n",
       "      <td>87554.000000</td>\n",
       "      <td>87554.000000</td>\n",
       "      <td>87554.000000</td>\n",
       "      <td>87554.000000</td>\n",
       "      <td>87554.000000</td>\n",
       "      <td>87554.000000</td>\n",
       "      <td>87554.000000</td>\n",
       "      <td>...</td>\n",
       "      <td>87554.000000</td>\n",
       "      <td>87554.000000</td>\n",
       "      <td>87554.000000</td>\n",
       "      <td>87554.000000</td>\n",
       "      <td>87554.000000</td>\n",
       "      <td>87554.000000</td>\n",
       "      <td>87554.000000</td>\n",
       "      <td>87554.000000</td>\n",
       "      <td>87554.000000</td>\n",
       "      <td>87554.000000</td>\n",
       "    </tr>\n",
       "    <tr>\n",
       "      <th>mean</th>\n",
       "      <td>0.890360</td>\n",
       "      <td>0.758160</td>\n",
       "      <td>0.423972</td>\n",
       "      <td>0.219104</td>\n",
       "      <td>0.201127</td>\n",
       "      <td>0.210399</td>\n",
       "      <td>0.205808</td>\n",
       "      <td>0.201773</td>\n",
       "      <td>0.198691</td>\n",
       "      <td>0.196757</td>\n",
       "      <td>...</td>\n",
       "      <td>0.005025</td>\n",
       "      <td>0.004628</td>\n",
       "      <td>0.004291</td>\n",
       "      <td>0.003945</td>\n",
       "      <td>0.003681</td>\n",
       "      <td>0.003471</td>\n",
       "      <td>0.003221</td>\n",
       "      <td>0.002945</td>\n",
       "      <td>0.002807</td>\n",
       "      <td>0.473376</td>\n",
       "    </tr>\n",
       "    <tr>\n",
       "      <th>std</th>\n",
       "      <td>0.240909</td>\n",
       "      <td>0.221813</td>\n",
       "      <td>0.227305</td>\n",
       "      <td>0.206878</td>\n",
       "      <td>0.177058</td>\n",
       "      <td>0.171909</td>\n",
       "      <td>0.178481</td>\n",
       "      <td>0.177240</td>\n",
       "      <td>0.171778</td>\n",
       "      <td>0.168357</td>\n",
       "      <td>...</td>\n",
       "      <td>0.044154</td>\n",
       "      <td>0.042089</td>\n",
       "      <td>0.040525</td>\n",
       "      <td>0.038651</td>\n",
       "      <td>0.037193</td>\n",
       "      <td>0.036255</td>\n",
       "      <td>0.034789</td>\n",
       "      <td>0.032865</td>\n",
       "      <td>0.031924</td>\n",
       "      <td>1.143184</td>\n",
       "    </tr>\n",
       "    <tr>\n",
       "      <th>min</th>\n",
       "      <td>0.000000</td>\n",
       "      <td>0.000000</td>\n",
       "      <td>0.000000</td>\n",
       "      <td>0.000000</td>\n",
       "      <td>0.000000</td>\n",
       "      <td>0.000000</td>\n",
       "      <td>0.000000</td>\n",
       "      <td>0.000000</td>\n",
       "      <td>0.000000</td>\n",
       "      <td>0.000000</td>\n",
       "      <td>...</td>\n",
       "      <td>0.000000</td>\n",
       "      <td>0.000000</td>\n",
       "      <td>0.000000</td>\n",
       "      <td>0.000000</td>\n",
       "      <td>0.000000</td>\n",
       "      <td>0.000000</td>\n",
       "      <td>0.000000</td>\n",
       "      <td>0.000000</td>\n",
       "      <td>0.000000</td>\n",
       "      <td>0.000000</td>\n",
       "    </tr>\n",
       "    <tr>\n",
       "      <th>25%</th>\n",
       "      <td>0.921922</td>\n",
       "      <td>0.682486</td>\n",
       "      <td>0.250969</td>\n",
       "      <td>0.048458</td>\n",
       "      <td>0.082329</td>\n",
       "      <td>0.088416</td>\n",
       "      <td>0.073333</td>\n",
       "      <td>0.066116</td>\n",
       "      <td>0.065000</td>\n",
       "      <td>0.068639</td>\n",
       "      <td>...</td>\n",
       "      <td>0.000000</td>\n",
       "      <td>0.000000</td>\n",
       "      <td>0.000000</td>\n",
       "      <td>0.000000</td>\n",
       "      <td>0.000000</td>\n",
       "      <td>0.000000</td>\n",
       "      <td>0.000000</td>\n",
       "      <td>0.000000</td>\n",
       "      <td>0.000000</td>\n",
       "      <td>0.000000</td>\n",
       "    </tr>\n",
       "    <tr>\n",
       "      <th>50%</th>\n",
       "      <td>0.991342</td>\n",
       "      <td>0.826013</td>\n",
       "      <td>0.429472</td>\n",
       "      <td>0.166000</td>\n",
       "      <td>0.147878</td>\n",
       "      <td>0.158798</td>\n",
       "      <td>0.145324</td>\n",
       "      <td>0.144424</td>\n",
       "      <td>0.150000</td>\n",
       "      <td>0.148734</td>\n",
       "      <td>...</td>\n",
       "      <td>0.000000</td>\n",
       "      <td>0.000000</td>\n",
       "      <td>0.000000</td>\n",
       "      <td>0.000000</td>\n",
       "      <td>0.000000</td>\n",
       "      <td>0.000000</td>\n",
       "      <td>0.000000</td>\n",
       "      <td>0.000000</td>\n",
       "      <td>0.000000</td>\n",
       "      <td>0.000000</td>\n",
       "    </tr>\n",
       "    <tr>\n",
       "      <th>75%</th>\n",
       "      <td>1.000000</td>\n",
       "      <td>0.910506</td>\n",
       "      <td>0.578767</td>\n",
       "      <td>0.341727</td>\n",
       "      <td>0.258993</td>\n",
       "      <td>0.287628</td>\n",
       "      <td>0.298237</td>\n",
       "      <td>0.295391</td>\n",
       "      <td>0.290832</td>\n",
       "      <td>0.283636</td>\n",
       "      <td>...</td>\n",
       "      <td>0.000000</td>\n",
       "      <td>0.000000</td>\n",
       "      <td>0.000000</td>\n",
       "      <td>0.000000</td>\n",
       "      <td>0.000000</td>\n",
       "      <td>0.000000</td>\n",
       "      <td>0.000000</td>\n",
       "      <td>0.000000</td>\n",
       "      <td>0.000000</td>\n",
       "      <td>0.000000</td>\n",
       "    </tr>\n",
       "    <tr>\n",
       "      <th>max</th>\n",
       "      <td>1.000000</td>\n",
       "      <td>1.000000</td>\n",
       "      <td>1.000000</td>\n",
       "      <td>1.000000</td>\n",
       "      <td>1.000000</td>\n",
       "      <td>1.000000</td>\n",
       "      <td>1.000000</td>\n",
       "      <td>1.000000</td>\n",
       "      <td>1.000000</td>\n",
       "      <td>1.000000</td>\n",
       "      <td>...</td>\n",
       "      <td>1.000000</td>\n",
       "      <td>1.000000</td>\n",
       "      <td>1.000000</td>\n",
       "      <td>1.000000</td>\n",
       "      <td>1.000000</td>\n",
       "      <td>1.000000</td>\n",
       "      <td>1.000000</td>\n",
       "      <td>1.000000</td>\n",
       "      <td>1.000000</td>\n",
       "      <td>4.000000</td>\n",
       "    </tr>\n",
       "  </tbody>\n",
       "</table>\n",
       "<p>8 rows × 188 columns</p>\n",
       "</div>"
      ],
      "text/plain": [
       "                0             1             2             3             4    \\\n",
       "count  87554.000000  87554.000000  87554.000000  87554.000000  87554.000000   \n",
       "mean       0.890360      0.758160      0.423972      0.219104      0.201127   \n",
       "std        0.240909      0.221813      0.227305      0.206878      0.177058   \n",
       "min        0.000000      0.000000      0.000000      0.000000      0.000000   \n",
       "25%        0.921922      0.682486      0.250969      0.048458      0.082329   \n",
       "50%        0.991342      0.826013      0.429472      0.166000      0.147878   \n",
       "75%        1.000000      0.910506      0.578767      0.341727      0.258993   \n",
       "max        1.000000      1.000000      1.000000      1.000000      1.000000   \n",
       "\n",
       "                5             6             7             8             9    \\\n",
       "count  87554.000000  87554.000000  87554.000000  87554.000000  87554.000000   \n",
       "mean       0.210399      0.205808      0.201773      0.198691      0.196757   \n",
       "std        0.171909      0.178481      0.177240      0.171778      0.168357   \n",
       "min        0.000000      0.000000      0.000000      0.000000      0.000000   \n",
       "25%        0.088416      0.073333      0.066116      0.065000      0.068639   \n",
       "50%        0.158798      0.145324      0.144424      0.150000      0.148734   \n",
       "75%        0.287628      0.298237      0.295391      0.290832      0.283636   \n",
       "max        1.000000      1.000000      1.000000      1.000000      1.000000   \n",
       "\n",
       "       ...           178           179           180           181  \\\n",
       "count  ...  87554.000000  87554.000000  87554.000000  87554.000000   \n",
       "mean   ...      0.005025      0.004628      0.004291      0.003945   \n",
       "std    ...      0.044154      0.042089      0.040525      0.038651   \n",
       "min    ...      0.000000      0.000000      0.000000      0.000000   \n",
       "25%    ...      0.000000      0.000000      0.000000      0.000000   \n",
       "50%    ...      0.000000      0.000000      0.000000      0.000000   \n",
       "75%    ...      0.000000      0.000000      0.000000      0.000000   \n",
       "max    ...      1.000000      1.000000      1.000000      1.000000   \n",
       "\n",
       "                182           183           184           185           186  \\\n",
       "count  87554.000000  87554.000000  87554.000000  87554.000000  87554.000000   \n",
       "mean       0.003681      0.003471      0.003221      0.002945      0.002807   \n",
       "std        0.037193      0.036255      0.034789      0.032865      0.031924   \n",
       "min        0.000000      0.000000      0.000000      0.000000      0.000000   \n",
       "25%        0.000000      0.000000      0.000000      0.000000      0.000000   \n",
       "50%        0.000000      0.000000      0.000000      0.000000      0.000000   \n",
       "75%        0.000000      0.000000      0.000000      0.000000      0.000000   \n",
       "max        1.000000      1.000000      1.000000      1.000000      1.000000   \n",
       "\n",
       "                187  \n",
       "count  87554.000000  \n",
       "mean       0.473376  \n",
       "std        1.143184  \n",
       "min        0.000000  \n",
       "25%        0.000000  \n",
       "50%        0.000000  \n",
       "75%        0.000000  \n",
       "max        4.000000  \n",
       "\n",
       "[8 rows x 188 columns]"
      ]
     },
     "execution_count": 4,
     "metadata": {},
     "output_type": "execute_result"
    }
   ],
   "source": [
    "data.describe()"
   ]
  },
  {
   "cell_type": "markdown",
   "id": "a5210686-3b1f-4e83-8406-6ad7a00de2b0",
   "metadata": {},
   "source": [
    "**On peut voir qu'il n'y a pas l'air d'y avoir de données abbérantes, les min et max sont proches de la moyenne. De plus, count correpond bien à notre nombre de lignes, ce qui signifie qu'il n'y a pas de données manquantes**"
   ]
  },
  {
   "cell_type": "markdown",
   "id": "3fdb2dcb-be36-486f-abdb-575f769b76f7",
   "metadata": {},
   "source": [
    "**Afin de vérifier qu'il n'y a pas de valeurs manquantes, nous pouvons utiliser la méthode ci-dessous**"
   ]
  },
  {
   "cell_type": "code",
   "execution_count": 5,
   "id": "b31fd46d-5931-46d3-bc9f-22775000cff0",
   "metadata": {},
   "outputs": [
    {
     "data": {
      "text/plain": [
       "0      0\n",
       "1      0\n",
       "2      0\n",
       "3      0\n",
       "4      0\n",
       "      ..\n",
       "183    0\n",
       "184    0\n",
       "185    0\n",
       "186    0\n",
       "187    0\n",
       "Length: 188, dtype: int64"
      ]
     },
     "execution_count": 5,
     "metadata": {},
     "output_type": "execute_result"
    }
   ],
   "source": [
    "data.isnull().sum()\n"
   ]
  },
  {
   "cell_type": "markdown",
   "id": "744a568f-c589-42d5-9870-c3f81d2f028e",
   "metadata": {},
   "source": [
    "**On n'aura donc pas besoins de générer de nouvelles valeurs, passons maintenant à la préparation et transformation des données**"
   ]
  },
  {
   "cell_type": "markdown",
   "id": "57842ee7-6170-42ad-b813-66cacc261516",
   "metadata": {},
   "source": [
    "**Dans un premier temps, nous allons extraire toutes les colonnes sauf la dernière (les features), et retourner ces features sous forme d'un tableau NumPy**"
   ]
  },
  {
   "cell_type": "code",
   "execution_count": 48,
   "id": "ce5384f8-151f-406e-9e24-745e0282772f",
   "metadata": {},
   "outputs": [],
   "source": [
    "# Fonction pour transformer les features (X) et enlever la variable cible activity à prédire (y)\n",
    "def feature_transformer(data):\n",
    "     # 187 colonnes du signal\n",
    "    return data.iloc[:, :-1].values  # Retourner uniquement les features (X)"
   ]
  },
  {
   "cell_type": "markdown",
   "id": "56064880-3e76-45af-83f2-0d092c31a31d",
   "metadata": {},
   "source": [
    "**On va maintenant convertir la variable cible en encodage one-hot.**"
   ]
  },
  {
   "cell_type": "code",
   "execution_count": 7,
   "id": "6d28086e-0e12-441b-a49f-9dbeb662f562",
   "metadata": {},
   "outputs": [],
   "source": [
    "def target_transformer(data):\n",
    "    # data est un DataFrame complet ; on en extrait la dernière colonne\n",
    "    y = data.iloc[:, -1].values\n",
    "    return to_categorical(y, num_classes=5)  # Encode les labels en one-hot"
   ]
  },
  {
   "cell_type": "markdown",
   "id": "704958d6-a835-472d-8161-b6d755c35d6f",
   "metadata": {},
   "source": [
    "**Pour finir, on définit des pipelines de prétraitement pour les variables d'entrée (X) et les labels cibles (y)**"
   ]
  },
  {
   "cell_type": "code",
   "execution_count": 8,
   "id": "2259102e-0c58-49ca-aa91-407404c933c7",
   "metadata": {},
   "outputs": [],
   "source": [
    "from sklearn.pipeline import Pipeline\n",
    "from sklearn.preprocessing import StandardScaler, FunctionTransformer\n",
    "from sklearn.model_selection import train_test_split\n",
    "\n",
    "# ——— Pipelines ———\n",
    "X_pipeline = Pipeline([\n",
    "    ('features', FunctionTransformer(feature_transformer, validate=False)),\n",
    "    ('scaler',   StandardScaler()),\n",
    "])\n",
    "\n",
    "y_pipeline = Pipeline([\n",
    "    ('onehot', FunctionTransformer(target_transformer, validate=False)),\n",
    "])"
   ]
  },
  {
   "cell_type": "code",
   "execution_count": 9,
   "id": "d76d1933-5caa-42a5-a41b-fff3f033c690",
   "metadata": {},
   "outputs": [],
   "source": [
    "# ——— Split train / test sur le DataFrame complet ———\n",
    "df_train, df_test = train_test_split(\n",
    "    data,\n",
    "    test_size=0.2,\n",
    "    stratify=data.iloc[:, -1],\n",
    "    random_state=42\n",
    ")"
   ]
  },
  {
   "cell_type": "code",
   "execution_count": 10,
   "id": "86bd3ffe-90d3-4fbe-a360-3be245df566e",
   "metadata": {},
   "outputs": [],
   "source": [
    "# ——— Transformation ———\n",
    "X_train = X_pipeline.fit_transform(df_train)\n",
    "y_train = y_pipeline.fit_transform(df_train)\n",
    "\n",
    "X_test  = X_pipeline.transform(df_test)\n",
    "y_test  = y_pipeline.transform(df_test)"
   ]
  },
  {
   "cell_type": "markdown",
   "id": "5f5bf90c-f7e4-4c3f-a721-28f9bd8a35bb",
   "metadata": {},
   "source": [
    "**Enfin, on va re dimensionner les données afin qu'elles soient adaptées au LSTM qui attend des données sous la forme [n_samples, n_timesteps, n_features]**"
   ]
  },
  {
   "cell_type": "code",
   "execution_count": 11,
   "id": "0209ad1a-8b68-490f-8b8c-3672a7288f68",
   "metadata": {},
   "outputs": [
    {
     "name": "stdout",
     "output_type": "stream",
     "text": [
      "X_train.shape        = (70043, 187)\n",
      "y_train.shape        = (70043, 5)\n",
      "X_train_lstm.shape   = (70043, 187, 1)\n"
     ]
    }
   ],
   "source": [
    "# ———  Reshape pour LSTM ———\n",
    "# shape initiale de X_train : (n_samples, 187)\n",
    "X_train_lstm = X_train.reshape(-1, X_train.shape[1], 1)\n",
    "X_test_lstm  = X_test.reshape(-1, X_test.shape[1], 1)\n",
    "\n",
    "print(\"X_train.shape        =\", X_train.shape)\n",
    "print(\"y_train.shape        =\", y_train.shape)\n",
    "print(\"X_train_lstm.shape   =\", X_train_lstm.shape)"
   ]
  },
  {
   "cell_type": "markdown",
   "id": "c9ae4495-edfb-4633-a910-e119845643f8",
   "metadata": {},
   "source": [
    "**On a donc nos données pour l'entrainement avec le MLLP et le réseau de neurones récurrents qui sont bien dimensionnées et bien préparées**"
   ]
  },
  {
   "cell_type": "markdown",
   "id": "68f4d15a-6018-4764-8849-df8bd4e89de7",
   "metadata": {},
   "source": [
    "## **Entrainement avec un MLP classique**\n"
   ]
  },
  {
   "cell_type": "code",
   "execution_count": 92,
   "id": "e8df40bf-1437-4ee4-a71e-c3927e1f4128",
   "metadata": {},
   "outputs": [
    {
     "name": "stderr",
     "output_type": "stream",
     "text": [
      "/opt/anaconda3/lib/python3.12/site-packages/keras/src/layers/core/dense.py:87: UserWarning: Do not pass an `input_shape`/`input_dim` argument to a layer. When using Sequential models, prefer using an `Input(shape)` object as the first layer in the model instead.\n",
      "  super().__init__(activity_regularizer=activity_regularizer, **kwargs)\n"
     ]
    },
    {
     "name": "stdout",
     "output_type": "stream",
     "text": [
      "Epoch 1/30\n",
      "\u001b[1m876/876\u001b[0m \u001b[32m━━━━━━━━━━━━━━━━━━━━\u001b[0m\u001b[37m\u001b[0m \u001b[1m2s\u001b[0m 1ms/step - accuracy: 0.7904 - loss: 0.7269 - val_accuracy: 0.9198 - val_loss: 0.2726\n",
      "Epoch 2/30\n",
      "\u001b[1m876/876\u001b[0m \u001b[32m━━━━━━━━━━━━━━━━━━━━\u001b[0m\u001b[37m\u001b[0m \u001b[1m1s\u001b[0m 1ms/step - accuracy: 0.9052 - loss: 0.3576 - val_accuracy: 0.9325 - val_loss: 0.2174\n",
      "Epoch 3/30\n",
      "\u001b[1m876/876\u001b[0m \u001b[32m━━━━━━━━━━━━━━━━━━━━\u001b[0m\u001b[37m\u001b[0m \u001b[1m1s\u001b[0m 849us/step - accuracy: 0.9164 - loss: 0.3058 - val_accuracy: 0.9423 - val_loss: 0.1928\n",
      "Epoch 4/30\n",
      "\u001b[1m876/876\u001b[0m \u001b[32m━━━━━━━━━━━━━━━━━━━━\u001b[0m\u001b[37m\u001b[0m \u001b[1m1s\u001b[0m 886us/step - accuracy: 0.9242 - loss: 0.2785 - val_accuracy: 0.9486 - val_loss: 0.1802\n",
      "Epoch 5/30\n",
      "\u001b[1m876/876\u001b[0m \u001b[32m━━━━━━━━━━━━━━━━━━━━\u001b[0m\u001b[37m\u001b[0m \u001b[1m1s\u001b[0m 830us/step - accuracy: 0.9310 - loss: 0.2498 - val_accuracy: 0.9494 - val_loss: 0.1709\n",
      "Epoch 6/30\n",
      "\u001b[1m876/876\u001b[0m \u001b[32m━━━━━━━━━━━━━━━━━━━━\u001b[0m\u001b[37m\u001b[0m \u001b[1m1s\u001b[0m 652us/step - accuracy: 0.9317 - loss: 0.2426 - val_accuracy: 0.9568 - val_loss: 0.1584\n",
      "Epoch 7/30\n",
      "\u001b[1m876/876\u001b[0m \u001b[32m━━━━━━━━━━━━━━━━━━━━\u001b[0m\u001b[37m\u001b[0m \u001b[1m1s\u001b[0m 636us/step - accuracy: 0.9369 - loss: 0.2299 - val_accuracy: 0.9558 - val_loss: 0.1593\n",
      "Epoch 8/30\n",
      "\u001b[1m876/876\u001b[0m \u001b[32m━━━━━━━━━━━━━━━━━━━━\u001b[0m\u001b[37m\u001b[0m \u001b[1m1s\u001b[0m 655us/step - accuracy: 0.9340 - loss: 0.2333 - val_accuracy: 0.9532 - val_loss: 0.1602\n",
      "Epoch 9/30\n",
      "\u001b[1m876/876\u001b[0m \u001b[32m━━━━━━━━━━━━━━━━━━━━\u001b[0m\u001b[37m\u001b[0m \u001b[1m1s\u001b[0m 671us/step - accuracy: 0.9381 - loss: 0.2201 - val_accuracy: 0.9600 - val_loss: 0.1450\n",
      "Epoch 10/30\n",
      "\u001b[1m876/876\u001b[0m \u001b[32m━━━━━━━━━━━━━━━━━━━━\u001b[0m\u001b[37m\u001b[0m \u001b[1m1s\u001b[0m 704us/step - accuracy: 0.9398 - loss: 0.2165 - val_accuracy: 0.9610 - val_loss: 0.1420\n",
      "Epoch 11/30\n",
      "\u001b[1m876/876\u001b[0m \u001b[32m━━━━━━━━━━━━━━━━━━━━\u001b[0m\u001b[37m\u001b[0m \u001b[1m1s\u001b[0m 669us/step - accuracy: 0.9419 - loss: 0.2106 - val_accuracy: 0.9588 - val_loss: 0.1462\n",
      "Epoch 12/30\n",
      "\u001b[1m876/876\u001b[0m \u001b[32m━━━━━━━━━━━━━━━━━━━━\u001b[0m\u001b[37m\u001b[0m \u001b[1m1s\u001b[0m 584us/step - accuracy: 0.9412 - loss: 0.2116 - val_accuracy: 0.9618 - val_loss: 0.1399\n",
      "Epoch 13/30\n",
      "\u001b[1m876/876\u001b[0m \u001b[32m━━━━━━━━━━━━━━━━━━━━\u001b[0m\u001b[37m\u001b[0m \u001b[1m0s\u001b[0m 496us/step - accuracy: 0.9429 - loss: 0.2044 - val_accuracy: 0.9626 - val_loss: 0.1347\n",
      "Epoch 14/30\n",
      "\u001b[1m876/876\u001b[0m \u001b[32m━━━━━━━━━━━━━━━━━━━━\u001b[0m\u001b[37m\u001b[0m \u001b[1m0s\u001b[0m 506us/step - accuracy: 0.9440 - loss: 0.2011 - val_accuracy: 0.9600 - val_loss: 0.1394\n",
      "Epoch 15/30\n",
      "\u001b[1m876/876\u001b[0m \u001b[32m━━━━━━━━━━━━━━━━━━━━\u001b[0m\u001b[37m\u001b[0m \u001b[1m0s\u001b[0m 545us/step - accuracy: 0.9463 - loss: 0.1976 - val_accuracy: 0.9580 - val_loss: 0.1401\n",
      "Epoch 16/30\n",
      "\u001b[1m876/876\u001b[0m \u001b[32m━━━━━━━━━━━━━━━━━━━━\u001b[0m\u001b[37m\u001b[0m \u001b[1m0s\u001b[0m 496us/step - accuracy: 0.9474 - loss: 0.1936 - val_accuracy: 0.9637 - val_loss: 0.1334\n",
      "Epoch 17/30\n",
      "\u001b[1m876/876\u001b[0m \u001b[32m━━━━━━━━━━━━━━━━━━━━\u001b[0m\u001b[37m\u001b[0m \u001b[1m0s\u001b[0m 496us/step - accuracy: 0.9454 - loss: 0.1986 - val_accuracy: 0.9630 - val_loss: 0.1376\n",
      "Epoch 18/30\n",
      "\u001b[1m876/876\u001b[0m \u001b[32m━━━━━━━━━━━━━━━━━━━━\u001b[0m\u001b[37m\u001b[0m \u001b[1m0s\u001b[0m 492us/step - accuracy: 0.9473 - loss: 0.1911 - val_accuracy: 0.9617 - val_loss: 0.1339\n",
      "Epoch 19/30\n",
      "\u001b[1m876/876\u001b[0m \u001b[32m━━━━━━━━━━━━━━━━━━━━\u001b[0m\u001b[37m\u001b[0m \u001b[1m0s\u001b[0m 494us/step - accuracy: 0.9467 - loss: 0.1917 - val_accuracy: 0.9638 - val_loss: 0.1302\n",
      "Epoch 20/30\n",
      "\u001b[1m876/876\u001b[0m \u001b[32m━━━━━━━━━━━━━━━━━━━━\u001b[0m\u001b[37m\u001b[0m \u001b[1m0s\u001b[0m 496us/step - accuracy: 0.9480 - loss: 0.1861 - val_accuracy: 0.9635 - val_loss: 0.1320\n",
      "Epoch 21/30\n",
      "\u001b[1m876/876\u001b[0m \u001b[32m━━━━━━━━━━━━━━━━━━━━\u001b[0m\u001b[37m\u001b[0m \u001b[1m0s\u001b[0m 493us/step - accuracy: 0.9475 - loss: 0.1917 - val_accuracy: 0.9637 - val_loss: 0.1297\n",
      "Epoch 22/30\n",
      "\u001b[1m876/876\u001b[0m \u001b[32m━━━━━━━━━━━━━━━━━━━━\u001b[0m\u001b[37m\u001b[0m \u001b[1m0s\u001b[0m 497us/step - accuracy: 0.9479 - loss: 0.1864 - val_accuracy: 0.9647 - val_loss: 0.1264\n",
      "Epoch 23/30\n",
      "\u001b[1m876/876\u001b[0m \u001b[32m━━━━━━━━━━━━━━━━━━━━\u001b[0m\u001b[37m\u001b[0m \u001b[1m0s\u001b[0m 501us/step - accuracy: 0.9494 - loss: 0.1857 - val_accuracy: 0.9659 - val_loss: 0.1272\n",
      "Epoch 24/30\n",
      "\u001b[1m876/876\u001b[0m \u001b[32m━━━━━━━━━━━━━━━━━━━━\u001b[0m\u001b[37m\u001b[0m \u001b[1m0s\u001b[0m 494us/step - accuracy: 0.9495 - loss: 0.1814 - val_accuracy: 0.9653 - val_loss: 0.1263\n",
      "Epoch 25/30\n",
      "\u001b[1m876/876\u001b[0m \u001b[32m━━━━━━━━━━━━━━━━━━━━\u001b[0m\u001b[37m\u001b[0m \u001b[1m0s\u001b[0m 447us/step - accuracy: 0.9509 - loss: 0.1813 - val_accuracy: 0.9630 - val_loss: 0.1294\n",
      "Epoch 26/30\n",
      "\u001b[1m876/876\u001b[0m \u001b[32m━━━━━━━━━━━━━━━━━━━━\u001b[0m\u001b[37m\u001b[0m \u001b[1m0s\u001b[0m 484us/step - accuracy: 0.9502 - loss: 0.1864 - val_accuracy: 0.9629 - val_loss: 0.1289\n",
      "Epoch 27/30\n",
      "\u001b[1m876/876\u001b[0m \u001b[32m━━━━━━━━━━━━━━━━━━━━\u001b[0m\u001b[37m\u001b[0m \u001b[1m0s\u001b[0m 437us/step - accuracy: 0.9503 - loss: 0.1791 - val_accuracy: 0.9656 - val_loss: 0.1247\n",
      "Epoch 28/30\n",
      "\u001b[1m876/876\u001b[0m \u001b[32m━━━━━━━━━━━━━━━━━━━━\u001b[0m\u001b[37m\u001b[0m \u001b[1m0s\u001b[0m 421us/step - accuracy: 0.9491 - loss: 0.1790 - val_accuracy: 0.9660 - val_loss: 0.1249\n",
      "Epoch 29/30\n",
      "\u001b[1m876/876\u001b[0m \u001b[32m━━━━━━━━━━━━━━━━━━━━\u001b[0m\u001b[37m\u001b[0m \u001b[1m0s\u001b[0m 422us/step - accuracy: 0.9503 - loss: 0.1840 - val_accuracy: 0.9666 - val_loss: 0.1239\n",
      "Epoch 30/30\n",
      "\u001b[1m876/876\u001b[0m \u001b[32m━━━━━━━━━━━━━━━━━━━━\u001b[0m\u001b[37m\u001b[0m \u001b[1m0s\u001b[0m 423us/step - accuracy: 0.9508 - loss: 0.1768 - val_accuracy: 0.9658 - val_loss: 0.1223\n"
     ]
    }
   ],
   "source": [
    "from tensorflow.keras.models import Sequential\n",
    "from tensorflow.keras.layers import Dense\n",
    "\n",
    "model_mlp = Sequential([\n",
    "    Dense(64, activation='relu', input_shape=(187,)),\n",
    "    Dropout(0.5),\n",
    "    Dense(32, activation='relu'),\n",
    "    Dropout(0.5),\n",
    "    Dense(5, activation='softmax')\n",
    "])\n",
    "\n",
    "model_mlp.compile(optimizer='adam', loss='categorical_crossentropy', metrics=['accuracy'])\n",
    "history=model_mlp.fit(X_train, y_train, epochs=30, batch_size=64, validation_split=0.2)"
   ]
  },
  {
   "cell_type": "markdown",
   "id": "198a9175-5b05-4fde-8bb4-47f1ccd63a3d",
   "metadata": {},
   "source": [
    "**Nous allons maintenant faire une matrice de confusion afin d'analyser nos résultats**"
   ]
  },
  {
   "cell_type": "code",
   "execution_count": 95,
   "id": "84b173db-9a41-450a-80a2-676e4b173c96",
   "metadata": {},
   "outputs": [
    {
     "name": "stdout",
     "output_type": "stream",
     "text": [
      "\u001b[1m548/548\u001b[0m \u001b[32m━━━━━━━━━━━━━━━━━━━━\u001b[0m\u001b[37m\u001b[0m \u001b[1m0s\u001b[0m 161us/step\n"
     ]
    },
    {
     "data": {
      "image/png": "[encoded data removed]",
      "text/plain": [
       "<Figure size 1000x800 with 2 Axes>"
      ]
     },
     "metadata": {},
     "output_type": "display_data"
    }
   ],
   "source": [
    "from sklearn.metrics import confusion_matrix\n",
    "import seaborn as sns\n",
    "import matplotlib.pyplot as plt\n",
    "import numpy as np\n",
    "\n",
    "# Classes pour le dataset MIT-BIH Arrhythmia (5 classes)\n",
    "labels = [\"Normal\", \"PVC\", \"LBBB\", \"RBBB\", \"Pacemaker\"]\n",
    "\n",
    "# Si y_test est en format one-hot, le convertir en indices de classe\n",
    "if y_test.ndim > 1:  \n",
    "    y_test_classes = np.argmax(y_test, axis=1)  \n",
    "else:\n",
    "    y_test_classes = y_test  \n",
    "\n",
    "\n",
    "y_pred = model_mlp.predict(X_test)\n",
    "\n",
    "# Convertir les prédictions en indices de classe \n",
    "y_pred_classes = np.argmax(y_pred, axis=1) \n",
    "\n",
    "# Calcul de la matrice de confusion\n",
    "cm = confusion_matrix(y_test_classes, y_pred_classes)\n",
    "\n",
    "# Calcul des métriques (précision et rappel)\n",
    "precision = np.diag(cm) / np.sum(cm, axis=0) * 100  \n",
    "recall = np.diag(cm) / np.sum(cm, axis=1) * 100  \n",
    "\n",
    "# Ajout du rappel en dernière colonne et de la précision en dernière ligne\n",
    "cm_extended = np.zeros((len(labels) + 1, len(labels) + 1))  \n",
    "cm_extended[:-1, :-1] = cm  \n",
    "cm_extended[:-1, -1] = recall  # Dernière colonne = Recall\n",
    "cm_extended[-1, :-1] = precision  # Dernière ligne = Précision\n",
    "cm_extended[-1, -1] = np.mean(recall)  # Moyenne du rappel pour la dernière case \n",
    "\n",
    "# Création des étiquettes \n",
    "extended_labels = labels + [\"Recall\"]\n",
    "extended_labels_h = labels + [\"Precision\"]\n",
    "\n",
    "# Affichage avec Seaborn \n",
    "plt.figure(figsize=(10, 8))\n",
    "sns.heatmap(cm_extended, annot=True, fmt=\".2f\", cmap='Blues', xticklabels=extended_labels, yticklabels=extended_labels_h)\n",
    "plt.title(\"Matrice de Confusion avec Recall et Précision\")\n",
    "plt.xlabel('Classes Prédites')\n",
    "plt.ylabel('Classes Réelles')\n",
    "plt.show()"
   ]
  },
  {
   "cell_type": "markdown",
   "id": "16564b8d-bc58-4ab3-89bc-bf03c20e14a6",
   "metadata": {},
   "source": [
    "**Au final, on peut voir assez nettement, que notre modele arrive très bien à classer les individus normaux avec une accuracy de 96%. En revanche, on a un peu du mal à détecter la maladie RBB, en effet, on pense que cela vient du fait qu'on a moins d' observation pour celle-ci, cela explique une accuracy inférieur (83%). Notre DataSet n'est pas assez équilibré**"
   ]
  },
  {
   "cell_type": "code",
   "execution_count": 98,
   "id": "3179a234-541a-4bbb-8c14-62dcd86a976b",
   "metadata": {},
   "outputs": [
    {
     "data": {
      "image/png": "[encoded data removed]",
      "text/plain": [
       "<Figure size 800x500 with 1 Axes>"
      ]
     },
     "metadata": {},
     "output_type": "display_data"
    }
   ],
   "source": [
    "import pandas as pd\n",
    "import matplotlib.pyplot as plt\n",
    "\n",
    "pd.DataFrame(history.history).plot(figsize=(8, 5))\n",
    "plt.grid(True)\n",
    "plt.gca().set_ylim(0, 1)\n",
    "plt.show()"
   ]
  },
  {
   "cell_type": "markdown",
   "id": "35e675b3-ffbf-4d0d-adfd-29f35a4e25ae",
   "metadata": {},
   "source": [
    "**Pour finir, on peut observer que notre modèle généralise bien avec une courbe de validation qui est légèrement supérieure à celle de l'accuracy. On a donc pas de sur-apprentissage**"
   ]
  },
  {
   "cell_type": "markdown",
   "id": "b0f50b53-64c1-4fb2-a87f-62c0579be3f6",
   "metadata": {},
   "source": [
    "## **Entrainement avec un réseau de neurones récurent :  LSTM**\n"
   ]
  },
  {
   "cell_type": "code",
   "execution_count": 21,
   "id": "b788efb7-0af5-42b6-a8dc-f9db5c18480a",
   "metadata": {},
   "outputs": [],
   "source": [
    "from tensorflow.keras.models import Sequential\n",
    "from tensorflow.keras.layers import LSTM, Dense, Dropout\n",
    "from tensorflow.keras.callbacks import EarlyStopping"
   ]
  },
  {
   "cell_type": "markdown",
   "id": "623810e9-8ef2-4463-b503-e88777c18bcd",
   "metadata": {},
   "source": [
    "**Pour l'entrainement avec le réseau de neurones récurents, nous avons fait le choix de faire de l'optimisation des hyper paramètres en combinant Keras avec scikit-learn.**"
   ]
  },
  {
   "cell_type": "code",
   "execution_count": 69,
   "id": "416badb4-b387-4104-b2c7-aa9a65008969",
   "metadata": {},
   "outputs": [
    {
     "name": "stdout",
     "output_type": "stream",
     "text": [
      "Fitting 3 folds for each of 5 candidates, totalling 15 fits\n"
     ]
    },
    {
     "name": "stderr",
     "output_type": "stream",
     "text": [
      "/opt/anaconda3/lib/python3.12/site-packages/keras/src/layers/rnn/rnn.py:200: UserWarning: Do not pass an `input_shape`/`input_dim` argument to a layer. When using Sequential models, prefer using an `Input(shape)` object as the first layer in the model instead.\n",
      "  super().__init__(**kwargs)\n"
     ]
    },
    {
     "name": "stdout",
     "output_type": "stream",
     "text": [
      "[CV] END batch_size=128, dropout_rate=0.5, epochs=5, units=32; total time=  42.5s\n"
     ]
    },
    {
     "name": "stderr",
     "output_type": "stream",
     "text": [
      "/opt/anaconda3/lib/python3.12/site-packages/keras/src/layers/rnn/rnn.py:200: UserWarning: Do not pass an `input_shape`/`input_dim` argument to a layer. When using Sequential models, prefer using an `Input(shape)` object as the first layer in the model instead.\n",
      "  super().__init__(**kwargs)\n"
     ]
    },
    {
     "name": "stdout",
     "output_type": "stream",
     "text": [
      "[CV] END batch_size=128, dropout_rate=0.5, epochs=5, units=32; total time=  42.5s\n"
     ]
    },
    {
     "name": "stderr",
     "output_type": "stream",
     "text": [
      "/opt/anaconda3/lib/python3.12/site-packages/keras/src/layers/rnn/rnn.py:200: UserWarning: Do not pass an `input_shape`/`input_dim` argument to a layer. When using Sequential models, prefer using an `Input(shape)` object as the first layer in the model instead.\n",
      "  super().__init__(**kwargs)\n"
     ]
    },
    {
     "name": "stdout",
     "output_type": "stream",
     "text": [
      "[CV] END batch_size=128, dropout_rate=0.5, epochs=5, units=32; total time=  42.7s\n"
     ]
    },
    {
     "name": "stderr",
     "output_type": "stream",
     "text": [
      "/opt/anaconda3/lib/python3.12/site-packages/keras/src/layers/rnn/rnn.py:200: UserWarning: Do not pass an `input_shape`/`input_dim` argument to a layer. When using Sequential models, prefer using an `Input(shape)` object as the first layer in the model instead.\n",
      "  super().__init__(**kwargs)\n"
     ]
    },
    {
     "name": "stdout",
     "output_type": "stream",
     "text": [
      "[CV] END batch_size=64, dropout_rate=0.3, epochs=5, units=64; total time= 1.8min\n"
     ]
    },
    {
     "name": "stderr",
     "output_type": "stream",
     "text": [
      "/opt/anaconda3/lib/python3.12/site-packages/keras/src/layers/rnn/rnn.py:200: UserWarning: Do not pass an `input_shape`/`input_dim` argument to a layer. When using Sequential models, prefer using an `Input(shape)` object as the first layer in the model instead.\n",
      "  super().__init__(**kwargs)\n"
     ]
    },
    {
     "name": "stdout",
     "output_type": "stream",
     "text": [
      "[CV] END batch_size=64, dropout_rate=0.3, epochs=5, units=64; total time= 1.8min\n"
     ]
    },
    {
     "name": "stderr",
     "output_type": "stream",
     "text": [
      "/opt/anaconda3/lib/python3.12/site-packages/keras/src/layers/rnn/rnn.py:200: UserWarning: Do not pass an `input_shape`/`input_dim` argument to a layer. When using Sequential models, prefer using an `Input(shape)` object as the first layer in the model instead.\n",
      "  super().__init__(**kwargs)\n"
     ]
    },
    {
     "name": "stdout",
     "output_type": "stream",
     "text": [
      "[CV] END batch_size=64, dropout_rate=0.3, epochs=5, units=64; total time= 1.8min\n"
     ]
    },
    {
     "name": "stderr",
     "output_type": "stream",
     "text": [
      "/opt/anaconda3/lib/python3.12/site-packages/keras/src/layers/rnn/rnn.py:200: UserWarning: Do not pass an `input_shape`/`input_dim` argument to a layer. When using Sequential models, prefer using an `Input(shape)` object as the first layer in the model instead.\n",
      "  super().__init__(**kwargs)\n"
     ]
    },
    {
     "name": "stdout",
     "output_type": "stream",
     "text": [
      "[CV] END batch_size=128, dropout_rate=0.3, epochs=5, units=64; total time= 1.5min\n"
     ]
    },
    {
     "name": "stderr",
     "output_type": "stream",
     "text": [
      "/opt/anaconda3/lib/python3.12/site-packages/keras/src/layers/rnn/rnn.py:200: UserWarning: Do not pass an `input_shape`/`input_dim` argument to a layer. When using Sequential models, prefer using an `Input(shape)` object as the first layer in the model instead.\n",
      "  super().__init__(**kwargs)\n"
     ]
    },
    {
     "name": "stdout",
     "output_type": "stream",
     "text": [
      "[CV] END batch_size=128, dropout_rate=0.3, epochs=5, units=64; total time= 1.5min\n"
     ]
    },
    {
     "name": "stderr",
     "output_type": "stream",
     "text": [
      "/opt/anaconda3/lib/python3.12/site-packages/keras/src/layers/rnn/rnn.py:200: UserWarning: Do not pass an `input_shape`/`input_dim` argument to a layer. When using Sequential models, prefer using an `Input(shape)` object as the first layer in the model instead.\n",
      "  super().__init__(**kwargs)\n"
     ]
    },
    {
     "name": "stdout",
     "output_type": "stream",
     "text": [
      "[CV] END batch_size=128, dropout_rate=0.3, epochs=5, units=64; total time= 1.5min\n"
     ]
    },
    {
     "name": "stderr",
     "output_type": "stream",
     "text": [
      "/opt/anaconda3/lib/python3.12/site-packages/keras/src/layers/rnn/rnn.py:200: UserWarning: Do not pass an `input_shape`/`input_dim` argument to a layer. When using Sequential models, prefer using an `Input(shape)` object as the first layer in the model instead.\n",
      "  super().__init__(**kwargs)\n"
     ]
    },
    {
     "name": "stdout",
     "output_type": "stream",
     "text": [
      "[CV] END batch_size=128, dropout_rate=0.5, epochs=10, units=128; total time= 7.1min\n"
     ]
    },
    {
     "name": "stderr",
     "output_type": "stream",
     "text": [
      "/opt/anaconda3/lib/python3.12/site-packages/keras/src/layers/rnn/rnn.py:200: UserWarning: Do not pass an `input_shape`/`input_dim` argument to a layer. When using Sequential models, prefer using an `Input(shape)` object as the first layer in the model instead.\n",
      "  super().__init__(**kwargs)\n"
     ]
    },
    {
     "name": "stdout",
     "output_type": "stream",
     "text": [
      "[CV] END batch_size=128, dropout_rate=0.5, epochs=10, units=128; total time= 7.0min\n"
     ]
    },
    {
     "name": "stderr",
     "output_type": "stream",
     "text": [
      "/opt/anaconda3/lib/python3.12/site-packages/keras/src/layers/rnn/rnn.py:200: UserWarning: Do not pass an `input_shape`/`input_dim` argument to a layer. When using Sequential models, prefer using an `Input(shape)` object as the first layer in the model instead.\n",
      "  super().__init__(**kwargs)\n"
     ]
    },
    {
     "name": "stdout",
     "output_type": "stream",
     "text": [
      "[CV] END batch_size=128, dropout_rate=0.5, epochs=10, units=128; total time= 6.5min\n"
     ]
    },
    {
     "name": "stderr",
     "output_type": "stream",
     "text": [
      "/opt/anaconda3/lib/python3.12/site-packages/keras/src/layers/rnn/rnn.py:200: UserWarning: Do not pass an `input_shape`/`input_dim` argument to a layer. When using Sequential models, prefer using an `Input(shape)` object as the first layer in the model instead.\n",
      "  super().__init__(**kwargs)\n"
     ]
    },
    {
     "name": "stdout",
     "output_type": "stream",
     "text": [
      "[CV] END batch_size=64, dropout_rate=0.7, epochs=5, units=64; total time= 2.6min\n"
     ]
    },
    {
     "name": "stderr",
     "output_type": "stream",
     "text": [
      "/opt/anaconda3/lib/python3.12/site-packages/keras/src/layers/rnn/rnn.py:200: UserWarning: Do not pass an `input_shape`/`input_dim` argument to a layer. When using Sequential models, prefer using an `Input(shape)` object as the first layer in the model instead.\n",
      "  super().__init__(**kwargs)\n"
     ]
    },
    {
     "name": "stdout",
     "output_type": "stream",
     "text": [
      "[CV] END batch_size=64, dropout_rate=0.7, epochs=5, units=64; total time= 1.8min\n"
     ]
    },
    {
     "name": "stderr",
     "output_type": "stream",
     "text": [
      "/opt/anaconda3/lib/python3.12/site-packages/keras/src/layers/rnn/rnn.py:200: UserWarning: Do not pass an `input_shape`/`input_dim` argument to a layer. When using Sequential models, prefer using an `Input(shape)` object as the first layer in the model instead.\n",
      "  super().__init__(**kwargs)\n"
     ]
    },
    {
     "name": "stdout",
     "output_type": "stream",
     "text": [
      "[CV] END batch_size=64, dropout_rate=0.7, epochs=5, units=64; total time= 1.8min\n"
     ]
    },
    {
     "name": "stderr",
     "output_type": "stream",
     "text": [
      "/opt/anaconda3/lib/python3.12/site-packages/keras/src/layers/rnn/rnn.py:200: UserWarning: Do not pass an `input_shape`/`input_dim` argument to a layer. When using Sequential models, prefer using an `Input(shape)` object as the first layer in the model instead.\n",
      "  super().__init__(**kwargs)\n"
     ]
    }
   ],
   "source": [
    "from scikeras.wrappers import KerasClassifier\n",
    "from sklearn.model_selection import RandomizedSearchCV\n",
    "\n",
    "def build_model(units=64, dropout_rate=0.5):\n",
    "    model = Sequential()\n",
    "    model.add(LSTM(units, input_shape=(X_train_lstm.shape[1], X_train_lstm.shape[2]), return_sequences=False))\n",
    "    model.add(Dropout(dropout_rate))\n",
    "    model.add(Dense(5, activation='softmax'))\n",
    "    model.compile(optimizer='adam', loss='categorical_crossentropy', metrics=['accuracy'])\n",
    "    return model\n",
    "\n",
    "model = KerasClassifier(\n",
    "    model=build_model,\n",
    "    units=64,\n",
    "    dropout_rate=0.5,\n",
    "    optimizer=\"adam\",\n",
    "    epochs=10,\n",
    "    batch_size=128,\n",
    "    verbose=0\n",
    ")\n",
    "\n",
    "param_dist = {\n",
    "    \"units\": [32, 64, 128],\n",
    "    \"dropout_rate\": [0.3, 0.5, 0.7],\n",
    "    \"batch_size\": [64, 128],\n",
    "    \"epochs\": [5, 10]\n",
    "}\n",
    "\n",
    "search = RandomizedSearchCV(model, param_distributions=param_dist, n_iter=5, cv=3, verbose=2)\n",
    "history=search.fit(X_train_lstm, y_train)\n"
   ]
  },
  {
   "cell_type": "markdown",
   "id": "cd04bb75-2c54-42cb-a616-6bb41d55c42b",
   "metadata": {},
   "source": [
    "**Nous avons fait lechoix d'optimiser la taille du LSTM, le taux de dropOut et la batch_size**"
   ]
  },
  {
   "cell_type": "code",
   "execution_count": 78,
   "id": "c9a647ec-d895-4ffe-83e1-47b10d8a0af9",
   "metadata": {},
   "outputs": [
    {
     "name": "stdout",
     "output_type": "stream",
     "text": [
      "Meilleurs paramètres trouvés :  {'units': 128, 'epochs': 10, 'dropout_rate': 0.5, 'batch_size': 128}\n"
     ]
    }
   ],
   "source": [
    "\n",
    "# Afficher les meilleurs hyperparamètres trouvés\n",
    "print(\"Meilleurs paramètres trouvés : \", search.best_params_)"
   ]
  },
  {
   "cell_type": "code",
   "execution_count": 106,
   "id": "e979cc9d-de0e-421e-b034-2ca692027e68",
   "metadata": {},
   "outputs": [],
   "source": [
    "# Afficher les résultats du meilleur modèle trouvé\n",
    "best_model = search.best_estimator_"
   ]
  },
  {
   "cell_type": "markdown",
   "id": "b210b630-9816-4cc1-8ddf-bc23dd143bce",
   "metadata": {},
   "source": [
    "**On lance maintenant l'entrainement avec le meilleur modèle trouvé**"
   ]
  },
  {
   "cell_type": "code",
   "execution_count": 84,
   "id": "1548e7f5-0772-488b-b14a-887464e9d89e",
   "metadata": {},
   "outputs": [
    {
     "name": "stdout",
     "output_type": "stream",
     "text": [
      "Epoch 1/30\n",
      "\u001b[1m876/876\u001b[0m \u001b[32m━━━━━━━━━━━━━━━━━━━━\u001b[0m\u001b[37m\u001b[0m \u001b[1m66s\u001b[0m 75ms/step - accuracy: 0.8840 - loss: 0.4044 - val_accuracy: 0.9082 - val_loss: 0.3439\n",
      "Epoch 2/30\n",
      "\u001b[1m876/876\u001b[0m \u001b[32m━━━━━━━━━━━━━━━━━━━━\u001b[0m\u001b[37m\u001b[0m \u001b[1m65s\u001b[0m 75ms/step - accuracy: 0.8922 - loss: 0.3854 - val_accuracy: 0.9158 - val_loss: 0.3252\n",
      "Epoch 3/30\n",
      "\u001b[1m876/876\u001b[0m \u001b[32m━━━━━━━━━━━━━━━━━━━━\u001b[0m\u001b[37m\u001b[0m \u001b[1m63s\u001b[0m 72ms/step - accuracy: 0.9105 - loss: 0.3452 - val_accuracy: 0.9258 - val_loss: 0.2913\n",
      "Epoch 4/30\n",
      "\u001b[1m876/876\u001b[0m \u001b[32m━━━━━━━━━━━━━━━━━━━━\u001b[0m\u001b[37m\u001b[0m \u001b[1m64s\u001b[0m 73ms/step - accuracy: 0.9225 - loss: 0.3152 - val_accuracy: 0.9213 - val_loss: 0.3008\n",
      "Epoch 5/30\n",
      "\u001b[1m876/876\u001b[0m \u001b[32m━━━━━━━━━━━━━━━━━━━━\u001b[0m\u001b[37m\u001b[0m \u001b[1m61s\u001b[0m 69ms/step - accuracy: 0.9277 - loss: 0.2921 - val_accuracy: 0.9300 - val_loss: 0.2700\n",
      "Epoch 6/30\n",
      "\u001b[1m876/876\u001b[0m \u001b[32m━━━━━━━━━━━━━━━━━━━━\u001b[0m\u001b[37m\u001b[0m \u001b[1m60s\u001b[0m 69ms/step - accuracy: 0.9269 - loss: 0.2962 - val_accuracy: 0.9342 - val_loss: 0.2618\n",
      "Epoch 7/30\n",
      "\u001b[1m876/876\u001b[0m \u001b[32m━━━━━━━━━━━━━━━━━━━━\u001b[0m\u001b[37m\u001b[0m \u001b[1m70s\u001b[0m 80ms/step - accuracy: 0.9328 - loss: 0.2722 - val_accuracy: 0.9345 - val_loss: 0.2490\n",
      "Epoch 8/30\n",
      "\u001b[1m876/876\u001b[0m \u001b[32m━━━━━━━━━━━━━━━━━━━━\u001b[0m\u001b[37m\u001b[0m \u001b[1m66s\u001b[0m 75ms/step - accuracy: 0.9330 - loss: 0.2656 - val_accuracy: 0.9292 - val_loss: 0.2609\n",
      "Epoch 9/30\n",
      "\u001b[1m876/876\u001b[0m \u001b[32m━━━━━━━━━━━━━━━━━━━━\u001b[0m\u001b[37m\u001b[0m \u001b[1m65s\u001b[0m 75ms/step - accuracy: 0.9337 - loss: 0.2585 - val_accuracy: 0.9335 - val_loss: 0.2490\n",
      "Epoch 10/30\n",
      "\u001b[1m876/876\u001b[0m \u001b[32m━━━━━━━━━━━━━━━━━━━━\u001b[0m\u001b[37m\u001b[0m \u001b[1m67s\u001b[0m 76ms/step - accuracy: 0.9361 - loss: 0.2505 - val_accuracy: 0.9402 - val_loss: 0.2309\n",
      "Epoch 11/30\n",
      "\u001b[1m876/876\u001b[0m \u001b[32m━━━━━━━━━━━━━━━━━━━━\u001b[0m\u001b[37m\u001b[0m \u001b[1m62s\u001b[0m 71ms/step - accuracy: 0.9377 - loss: 0.2440 - val_accuracy: 0.9373 - val_loss: 0.2638\n",
      "Epoch 12/30\n",
      "\u001b[1m876/876\u001b[0m \u001b[32m━━━━━━━━━━━━━━━━━━━━\u001b[0m\u001b[37m\u001b[0m \u001b[1m58s\u001b[0m 67ms/step - accuracy: 0.9412 - loss: 0.2339 - val_accuracy: 0.9474 - val_loss: 0.2021\n",
      "Epoch 13/30\n",
      "\u001b[1m876/876\u001b[0m \u001b[32m━━━━━━━━━━━━━━━━━━━━\u001b[0m\u001b[37m\u001b[0m \u001b[1m69s\u001b[0m 79ms/step - accuracy: 0.9436 - loss: 0.2252 - val_accuracy: 0.9470 - val_loss: 0.2020\n",
      "Epoch 14/30\n",
      "\u001b[1m876/876\u001b[0m \u001b[32m━━━━━━━━━━━━━━━━━━━━\u001b[0m\u001b[37m\u001b[0m \u001b[1m67s\u001b[0m 76ms/step - accuracy: 0.9461 - loss: 0.2014 - val_accuracy: 0.9463 - val_loss: 0.1860\n",
      "Epoch 15/30\n",
      "\u001b[1m876/876\u001b[0m \u001b[32m━━━━━━━━━━━━━━━━━━━━\u001b[0m\u001b[37m\u001b[0m \u001b[1m62s\u001b[0m 71ms/step - accuracy: 0.9483 - loss: 0.1951 - val_accuracy: 0.9523 - val_loss: 0.1726\n",
      "Epoch 16/30\n",
      "\u001b[1m876/876\u001b[0m \u001b[32m━━━━━━━━━━━━━━━━━━━━\u001b[0m\u001b[37m\u001b[0m \u001b[1m62s\u001b[0m 70ms/step - accuracy: 0.9505 - loss: 0.1854 - val_accuracy: 0.9497 - val_loss: 0.1757\n",
      "Epoch 17/30\n",
      "\u001b[1m876/876\u001b[0m \u001b[32m━━━━━━━━━━━━━━━━━━━━\u001b[0m\u001b[37m\u001b[0m \u001b[1m60s\u001b[0m 69ms/step - accuracy: 0.9511 - loss: 0.1821 - val_accuracy: 0.9581 - val_loss: 0.1520\n",
      "Epoch 18/30\n",
      "\u001b[1m876/876\u001b[0m \u001b[32m━━━━━━━━━━━━━━━━━━━━\u001b[0m\u001b[37m\u001b[0m \u001b[1m67s\u001b[0m 77ms/step - accuracy: 0.9545 - loss: 0.1686 - val_accuracy: 0.9582 - val_loss: 0.1492\n",
      "Epoch 19/30\n",
      "\u001b[1m876/876\u001b[0m \u001b[32m━━━━━━━━━━━━━━━━━━━━\u001b[0m\u001b[37m\u001b[0m \u001b[1m61s\u001b[0m 70ms/step - accuracy: 0.9563 - loss: 0.1648 - val_accuracy: 0.9628 - val_loss: 0.1388\n",
      "Epoch 20/30\n",
      "\u001b[1m876/876\u001b[0m \u001b[32m━━━━━━━━━━━━━━━━━━━━\u001b[0m\u001b[37m\u001b[0m \u001b[1m67s\u001b[0m 77ms/step - accuracy: 0.9522 - loss: 0.1734 - val_accuracy: 0.9553 - val_loss: 0.1586\n",
      "Epoch 21/30\n",
      "\u001b[1m876/876\u001b[0m \u001b[32m━━━━━━━━━━━━━━━━━━━━\u001b[0m\u001b[37m\u001b[0m \u001b[1m67s\u001b[0m 76ms/step - accuracy: 0.9579 - loss: 0.1518 - val_accuracy: 0.9663 - val_loss: 0.1263\n",
      "Epoch 22/30\n",
      "\u001b[1m876/876\u001b[0m \u001b[32m━━━━━━━━━━━━━━━━━━━━\u001b[0m\u001b[37m\u001b[0m \u001b[1m66s\u001b[0m 76ms/step - accuracy: 0.9610 - loss: 0.1395 - val_accuracy: 0.9634 - val_loss: 0.1243\n",
      "Epoch 23/30\n",
      "\u001b[1m876/876\u001b[0m \u001b[32m━━━━━━━━━━━━━━━━━━━━\u001b[0m\u001b[37m\u001b[0m \u001b[1m66s\u001b[0m 76ms/step - accuracy: 0.9632 - loss: 0.1309 - val_accuracy: 0.9661 - val_loss: 0.1243\n",
      "Epoch 24/30\n",
      "\u001b[1m876/876\u001b[0m \u001b[32m━━━━━━━━━━━━━━━━━━━━\u001b[0m\u001b[37m\u001b[0m \u001b[1m62s\u001b[0m 71ms/step - accuracy: 0.9643 - loss: 0.1289 - val_accuracy: 0.9659 - val_loss: 0.1227\n",
      "Epoch 25/30\n",
      "\u001b[1m876/876\u001b[0m \u001b[32m━━━━━━━━━━━━━━━━━━━━\u001b[0m\u001b[37m\u001b[0m \u001b[1m65s\u001b[0m 74ms/step - accuracy: 0.9546 - loss: 0.1624 - val_accuracy: 0.9622 - val_loss: 0.1365\n",
      "Epoch 26/30\n",
      "\u001b[1m876/876\u001b[0m \u001b[32m━━━━━━━━━━━━━━━━━━━━\u001b[0m\u001b[37m\u001b[0m \u001b[1m65s\u001b[0m 75ms/step - accuracy: 0.9612 - loss: 0.1442 - val_accuracy: 0.9673 - val_loss: 0.1131\n",
      "Epoch 27/30\n",
      "\u001b[1m876/876\u001b[0m \u001b[32m━━━━━━━━━━━━━━━━━━━━\u001b[0m\u001b[37m\u001b[0m \u001b[1m65s\u001b[0m 74ms/step - accuracy: 0.9668 - loss: 0.1214 - val_accuracy: 0.9707 - val_loss: 0.1101\n",
      "Epoch 28/30\n",
      "\u001b[1m876/876\u001b[0m \u001b[32m━━━━━━━━━━━━━━━━━━━━\u001b[0m\u001b[37m\u001b[0m \u001b[1m63s\u001b[0m 72ms/step - accuracy: 0.9699 - loss: 0.1146 - val_accuracy: 0.9679 - val_loss: 0.1173\n",
      "Epoch 29/30\n",
      "\u001b[1m876/876\u001b[0m \u001b[32m━━━━━━━━━━━━━━━━━━━━\u001b[0m\u001b[37m\u001b[0m \u001b[1m62s\u001b[0m 71ms/step - accuracy: 0.9682 - loss: 0.1145 - val_accuracy: 0.9687 - val_loss: 0.1089\n",
      "Epoch 30/30\n",
      "\u001b[1m876/876\u001b[0m \u001b[32m━━━━━━━━━━━━━━━━━━━━\u001b[0m\u001b[37m\u001b[0m \u001b[1m65s\u001b[0m 75ms/step - accuracy: 0.9691 - loss: 0.1144 - val_accuracy: 0.9699 - val_loss: 0.1130\n"
     ]
    }
   ],
   "source": [
    "history = best_model.model_.fit(X_train_lstm, y_train, epochs=30, batch_size=64, validation_split=0.2)"
   ]
  },
  {
   "cell_type": "markdown",
   "id": "7ec27170-e8f4-4880-bad3-ffbc6e83f60a",
   "metadata": {},
   "source": [
    "**Analysons maintenant nos résultats avec une matrice de confusion et les courbes d'apprentissage**"
   ]
  },
  {
   "cell_type": "code",
   "execution_count": 110,
   "id": "e36863ee-fc08-487e-8f07-ad2ae1cae43d",
   "metadata": {},
   "outputs": [
    {
     "data": {
      "image/png": "[encoded data removed]",
      "text/plain": [
       "<Figure size 1000x800 with 2 Axes>"
      ]
     },
     "metadata": {},
     "output_type": "display_data"
    }
   ],
   "source": [
    "from sklearn.metrics import confusion_matrix\n",
    "import seaborn as sns\n",
    "import matplotlib.pyplot as plt\n",
    "import numpy as np\n",
    "\n",
    "# Classes pour le dataset MIT-BIH Arrhythmia (5 classes)\n",
    "labels = [\"Normal\", \"PVC\", \"LBBB\", \"RBBB\", \"Pacemaker\"]\n",
    "\n",
    "# Si y_test est en format one-hot, le convertir en indices de classe\n",
    "if y_test.ndim > 1:  \n",
    "    y_test_classes = np.argmax(y_test, axis=1)  \n",
    "else:\n",
    "    y_test_classes = y_test  \n",
    "\n",
    "\n",
    "y_pred = best_model.predict(X_test_lstm)\n",
    "\n",
    "# Convertir les prédictions en indices de classe \n",
    "y_pred_classes = np.argmax(y_pred, axis=1) \n",
    "\n",
    "# Calcul de la matrice de confusion\n",
    "cm = confusion_matrix(y_test_classes, y_pred_classes)\n",
    "\n",
    "# Calcul des métriques (précision et rappel)\n",
    "precision = np.diag(cm) / np.sum(cm, axis=0) * 100  \n",
    "recall = np.diag(cm) / np.sum(cm, axis=1) * 100  \n",
    "\n",
    "# Ajout du rappel en dernière colonne et de la précision en dernière ligne\n",
    "cm_extended = np.zeros((len(labels) + 1, len(labels) + 1))  \n",
    "cm_extended[:-1, :-1] = cm  \n",
    "cm_extended[:-1, -1] = recall  # Dernière colonne = Recall\n",
    "cm_extended[-1, :-1] = precision  # Dernière ligne = Précision\n",
    "cm_extended[-1, -1] = np.mean(recall)  # Moyenne du rappel pour la dernière case \n",
    "\n",
    "# Création des étiquettes \n",
    "extended_labels = labels + [\"Recall\"]\n",
    "extended_labels_h = labels + [\"Precision\"]\n",
    "\n",
    "# Affichage avec Seaborn \n",
    "plt.figure(figsize=(10, 8))\n",
    "sns.heatmap(cm_extended, annot=True, fmt=\".2f\", cmap='Blues', xticklabels=extended_labels, yticklabels=extended_labels_h)\n",
    "plt.title(\"Matrice de Confusion avec Recall et Précision\")\n",
    "plt.xlabel('Classes Prédites')\n",
    "plt.ylabel('Classes Réelles')\n",
    "plt.show()"
   ]
  },
  {
   "cell_type": "markdown",
   "id": "e0c2f7da-50f0-4803-bdeb-0462903290db",
   "metadata": {},
   "source": [
    "**Au global, comme avec le MLP, notre modele LSTM arrive très bien à classer les individus normaux avec une accuracy de 97% et 98% en recall. Neanmoins, on a aussi du mal avec la maladie RBB avec une accuracy de 79% et 49% en recall. Avec un recall de 49%,  pour RBBB , cela veut dire que notre modèle détecte environ un battement RBBB sur deux, mais en loupe aussi la moitié, ce qui peut poser problème quand on travail dans le domaine de la santé.**"
   ]
  },
  {
   "cell_type": "code",
   "execution_count": 90,
   "id": "6520f137-085a-4380-949e-50f939ccc499",
   "metadata": {},
   "outputs": [
    {
     "data": {
      "image/png": "[encoded data removed]",
      "text/plain": [
       "<Figure size 800x500 with 1 Axes>"
      ]
     },
     "metadata": {},
     "output_type": "display_data"
    }
   ],
   "source": [
    "import pandas as pd\n",
    "\n",
    "pd.DataFrame(history.history).plot(figsize=(8, 5))\n",
    "plt.grid(True)\n",
    "plt.gca().set_ylim(0, 1)\n",
    "plt.show()"
   ]
  },
  {
   "cell_type": "markdown",
   "id": "f32a6e98-adf0-4d25-9443-f26a09ae3608",
   "metadata": {},
   "source": [
    "**On observe ici que le modèle généralise bien avec la courbe de validation qui suit la courbe d'accuracy. Il n'y a donc pas de sur-apprentissage. On peut néanmoins constater un peu de bruit au niveau de la loss de la validation, ce qui peut s'expliquer avec l'optimiseur et le dropOut utilisés.**"
   ]
  },
  {
   "cell_type": "markdown",
   "id": "d7ed97b8-dcce-4902-9b6e-cf9a4fc646b9",
   "metadata": {},
   "source": [
    "## **Comparaison Finale et conclusion**"
   ]
  },
  {
   "cell_type": "code",
   "execution_count": 112,
   "id": "8ef5f0b9-89f4-4d66-bd0c-e0736f50f2e2",
   "metadata": {},
   "outputs": [
    {
     "name": "stdout",
     "output_type": "stream",
     "text": [
      "\u001b[1m548/548\u001b[0m \u001b[32m━━━━━━━━━━━━━━━━━━━━\u001b[0m\u001b[37m\u001b[0m \u001b[1m0s\u001b[0m 217us/step\n",
      "MLP :\n",
      "              precision    recall  f1-score   support\n",
      "\n",
      "           0       0.97      1.00      0.98     14494\n",
      "           1       0.94      0.54      0.69       445\n",
      "           2       0.95      0.80      0.87      1158\n",
      "           3       0.80      0.27      0.41       128\n",
      "           4       0.99      0.92      0.95      1286\n",
      "\n",
      "   micro avg       0.97      0.96      0.96     17511\n",
      "   macro avg       0.93      0.71      0.78     17511\n",
      "weighted avg       0.97      0.96      0.96     17511\n",
      " samples avg       0.96      0.96      0.96     17511\n",
      "\n",
      "LSTM :\n",
      "              precision    recall  f1-score   support\n",
      "\n",
      "           0       0.98      0.99      0.98     14494\n",
      "           1       0.81      0.57      0.67       445\n",
      "           2       0.88      0.92      0.90      1158\n",
      "           3       0.79      0.48      0.60       128\n",
      "           4       0.97      0.95      0.96      1286\n",
      "\n",
      "   micro avg       0.97      0.97      0.97     17511\n",
      "   macro avg       0.89      0.78      0.82     17511\n",
      "weighted avg       0.96      0.97      0.96     17511\n",
      " samples avg       0.97      0.97      0.97     17511\n",
      "\n"
     ]
    },
    {
     "name": "stderr",
     "output_type": "stream",
     "text": [
      "/opt/anaconda3/lib/python3.12/site-packages/sklearn/metrics/_classification.py:1531: UndefinedMetricWarning: Precision is ill-defined and being set to 0.0 in samples with no predicted labels. Use `zero_division` parameter to control this behavior.\n",
      "  _warn_prf(average, modifier, f\"{metric.capitalize()} is\", len(result))\n"
     ]
    }
   ],
   "source": [
    "from sklearn.metrics import classification_report\n",
    "\n",
    "y_pred_mlp = model_mlp.predict(X_test) > 0.5\n",
    "y_pred_lstm = best_model.predict(X_test_lstm) > 0.5\n",
    "\n",
    "print(\"MLP :\")\n",
    "print(classification_report(y_test, y_pred_mlp))\n",
    "\n",
    "print(\"LSTM :\")\n",
    "print(classification_report(y_test, y_pred_lstm))"
   ]
  },
  {
   "cell_type": "markdown",
   "id": "997d9f6f-3b55-429d-9ceb-7cd4db3d51fc",
   "metadata": {},
   "source": [
    "**Au global on obtient des résultats tout à fait convenables et similaires avec les deux modèles. Voici notre analyse du classification_report :**"
   ]
  },
  {
   "cell_type": "markdown",
   "id": "e7caa8ac-e081-4b49-93b6-5f969d2a6032",
   "metadata": {},
   "source": [
    "**- Micro avg de 97% pour les deux : Très bon score , nos modèles sont globalement performants**"
   ]
  },
  {
   "cell_type": "markdown",
   "id": "cdf6a138-f241-4eaa-8d29-347aed8a54fd",
   "metadata": {},
   "source": [
    "**- Macro-avg : moyenne non pondérée par classe, on peut voir que certaines classes ont un recall très faible (RBBB par exemple).**"
   ]
  },
  {
   "cell_type": "markdown",
   "id": "fe814336-b79a-4e38-bbfe-b8f9d0d3cf9e",
   "metadata": {},
   "source": [
    "**-> Cela nous montre un déséquilibre entre nos classes**"
   ]
  },
  {
   "cell_type": "markdown",
   "id": "19e103ed-5f0c-45da-8cc9-3e41d688c36a",
   "metadata": {},
   "source": [
    "**- Weighted average : moyenne pondérée par classe, il est élevé ici (96% et 97%).**"
   ]
  },
  {
   "cell_type": "markdown",
   "id": "89b30756-9456-4a11-acc5-857b26efe706",
   "metadata": {},
   "source": [
    "**-> Nos modèles font bien sur les classes majoritaires**"
   ]
  },
  {
   "cell_type": "markdown",
   "id": "8e630137-0881-4540-9854-c1440cbad439",
   "metadata": {},
   "source": [
    "**Essayons maintenant d'un peu plus comparer le MLP avec le LSTM. On peut tout d'abord voir que le LSTM fait mieux pour les classes minoritaires, ce qui est super important pour nous (meme si ce F1 score macro de 82% peut etre amélioré).**"
   ]
  },
  {
   "cell_type": "markdown",
   "id": "0b41ab39-1904-4905-b756-e0db10631760",
   "metadata": {},
   "source": [
    "**Le LSTM gère mieux la variabilité temporelle et est donc plus robuste que le MLP pour les classes rares**"
   ]
  },
  {
   "cell_type": "markdown",
   "id": "c5e50bb9-f554-4571-91fe-8f6d2f90375f",
   "metadata": {},
   "source": [
    "**En revanche, le MLP est très bon sur les classes fréquentes, mais plus rigide dès que les patterns sont moins évidents.**"
   ]
  },
  {
   "cell_type": "markdown",
   "id": "5bc2a177-a88c-4261-9826-821f7c207d1c",
   "metadata": {},
   "source": [
    "**Pour conclure, si il y a avait à choisir un modèle pour dans notre étude de cas d'analyse d'ECG, on choisirait le réseau de neurones récurents, le LSTM. En effet, on a pu constater qu'il semble plus adapté que le MLP pour les séries temporelles (comme les ECG).**"
   ]
  },
  {
   "cell_type": "code",
   "execution_count": null,
   "id": "fecfbb98-83f1-4fef-a16b-b9f43a8af68e",
   "metadata": {},
   "outputs": [],
   "source": []
  }
 ],
 "metadata": {
  "kernelspec": {
   "display_name": "Python 3 (ipykernel)",
   "language": "python",
   "name": "python3"
  },
  "language_info": {
   "codemirror_mode": {
    "name": "ipython",
    "version": 3
   },
   "file_extension": ".py",
   "mimetype": "text/x-python",
   "name": "python",
   "nbconvert_exporter": "python",
   "pygments_lexer": "ipython3",
   "version": "3.12.2"
  }
 },
 "nbformat": 4,
 "nbformat_minor": 5
}
